{
 "cells": [
  {
   "cell_type": "markdown",
   "id": "fb2e6d75",
   "metadata": {},
   "source": [
    "**House Price Prediction using Linear Regression in Python**"
   ]
  },
  {
   "cell_type": "code",
   "execution_count": 28,
   "id": "45f819d2",
   "metadata": {
    "ExecuteTime": {
     "end_time": "2024-01-29T12:01:08.818651Z",
     "start_time": "2024-01-29T12:01:08.813510Z"
    }
   },
   "outputs": [],
   "source": [
    "import pandas as pd\n",
    "import matplotlib.pyplot as plt\n",
    "import seaborn as sns"
   ]
  },
  {
   "cell_type": "code",
   "execution_count": 29,
   "id": "189d6776",
   "metadata": {
    "ExecuteTime": {
     "end_time": "2024-01-29T12:01:10.118774Z",
     "start_time": "2024-01-29T12:01:10.114701Z"
    }
   },
   "outputs": [],
   "source": [
    "import os\n",
    "os.chdir('D:\\SCMA 632\\Py\\Project_3')"
   ]
  },
  {
   "cell_type": "code",
   "execution_count": 30,
   "id": "d494ea19",
   "metadata": {
    "ExecuteTime": {
     "end_time": "2024-01-29T12:01:12.771008Z",
     "start_time": "2024-01-29T12:01:11.465953Z"
    }
   },
   "outputs": [
    {
     "data": {
      "text/html": [
       "<div>\n",
       "<style scoped>\n",
       "    .dataframe tbody tr th:only-of-type {\n",
       "        vertical-align: middle;\n",
       "    }\n",
       "\n",
       "    .dataframe tbody tr th {\n",
       "        vertical-align: top;\n",
       "    }\n",
       "\n",
       "    .dataframe thead th {\n",
       "        text-align: right;\n",
       "    }\n",
       "</style>\n",
       "<table border=\"1\" class=\"dataframe\">\n",
       "  <thead>\n",
       "    <tr style=\"text-align: right;\">\n",
       "      <th></th>\n",
       "      <th>Id</th>\n",
       "      <th>MSSubClass</th>\n",
       "      <th>MSZoning</th>\n",
       "      <th>LotArea</th>\n",
       "      <th>LotConfig</th>\n",
       "      <th>BldgType</th>\n",
       "      <th>OverallCond</th>\n",
       "      <th>YearBuilt</th>\n",
       "      <th>YearRemodAdd</th>\n",
       "      <th>Exterior1st</th>\n",
       "      <th>BsmtFinSF2</th>\n",
       "      <th>TotalBsmtSF</th>\n",
       "      <th>SalePrice</th>\n",
       "    </tr>\n",
       "  </thead>\n",
       "  <tbody>\n",
       "    <tr>\n",
       "      <th>0</th>\n",
       "      <td>0</td>\n",
       "      <td>60</td>\n",
       "      <td>RL</td>\n",
       "      <td>8450</td>\n",
       "      <td>Inside</td>\n",
       "      <td>1Fam</td>\n",
       "      <td>5</td>\n",
       "      <td>2003</td>\n",
       "      <td>2003</td>\n",
       "      <td>VinylSd</td>\n",
       "      <td>0.0</td>\n",
       "      <td>856.0</td>\n",
       "      <td>208500.0</td>\n",
       "    </tr>\n",
       "    <tr>\n",
       "      <th>1</th>\n",
       "      <td>1</td>\n",
       "      <td>20</td>\n",
       "      <td>RL</td>\n",
       "      <td>9600</td>\n",
       "      <td>FR2</td>\n",
       "      <td>1Fam</td>\n",
       "      <td>8</td>\n",
       "      <td>1976</td>\n",
       "      <td>1976</td>\n",
       "      <td>MetalSd</td>\n",
       "      <td>0.0</td>\n",
       "      <td>1262.0</td>\n",
       "      <td>181500.0</td>\n",
       "    </tr>\n",
       "    <tr>\n",
       "      <th>2</th>\n",
       "      <td>2</td>\n",
       "      <td>60</td>\n",
       "      <td>RL</td>\n",
       "      <td>11250</td>\n",
       "      <td>Inside</td>\n",
       "      <td>1Fam</td>\n",
       "      <td>5</td>\n",
       "      <td>2001</td>\n",
       "      <td>2002</td>\n",
       "      <td>VinylSd</td>\n",
       "      <td>0.0</td>\n",
       "      <td>920.0</td>\n",
       "      <td>223500.0</td>\n",
       "    </tr>\n",
       "    <tr>\n",
       "      <th>3</th>\n",
       "      <td>3</td>\n",
       "      <td>70</td>\n",
       "      <td>RL</td>\n",
       "      <td>9550</td>\n",
       "      <td>Corner</td>\n",
       "      <td>1Fam</td>\n",
       "      <td>5</td>\n",
       "      <td>1915</td>\n",
       "      <td>1970</td>\n",
       "      <td>Wd Sdng</td>\n",
       "      <td>0.0</td>\n",
       "      <td>756.0</td>\n",
       "      <td>140000.0</td>\n",
       "    </tr>\n",
       "    <tr>\n",
       "      <th>4</th>\n",
       "      <td>4</td>\n",
       "      <td>60</td>\n",
       "      <td>RL</td>\n",
       "      <td>14260</td>\n",
       "      <td>FR2</td>\n",
       "      <td>1Fam</td>\n",
       "      <td>5</td>\n",
       "      <td>2000</td>\n",
       "      <td>2000</td>\n",
       "      <td>VinylSd</td>\n",
       "      <td>0.0</td>\n",
       "      <td>1145.0</td>\n",
       "      <td>250000.0</td>\n",
       "    </tr>\n",
       "  </tbody>\n",
       "</table>\n",
       "</div>"
      ],
      "text/plain": [
       "   Id  MSSubClass MSZoning  LotArea LotConfig BldgType  OverallCond  \\\n",
       "0   0          60       RL     8450    Inside     1Fam            5   \n",
       "1   1          20       RL     9600       FR2     1Fam            8   \n",
       "2   2          60       RL    11250    Inside     1Fam            5   \n",
       "3   3          70       RL     9550    Corner     1Fam            5   \n",
       "4   4          60       RL    14260       FR2     1Fam            5   \n",
       "\n",
       "   YearBuilt  YearRemodAdd Exterior1st  BsmtFinSF2  TotalBsmtSF  SalePrice  \n",
       "0       2003          2003     VinylSd         0.0        856.0   208500.0  \n",
       "1       1976          1976     MetalSd         0.0       1262.0   181500.0  \n",
       "2       2001          2002     VinylSd         0.0        920.0   223500.0  \n",
       "3       1915          1970     Wd Sdng         0.0        756.0   140000.0  \n",
       "4       2000          2000     VinylSd         0.0       1145.0   250000.0  "
      ]
     },
     "execution_count": 30,
     "metadata": {},
     "output_type": "execute_result"
    }
   ],
   "source": [
    "dataset = pd.read_excel(\"HousePricePrediction.xlsx\")\n",
    "\n",
    "# Printing first 5 records of the dataset\n",
    "dataset.head(5)"
   ]
  },
  {
   "cell_type": "code",
   "execution_count": 31,
   "id": "95da999d",
   "metadata": {
    "ExecuteTime": {
     "end_time": "2024-01-29T12:01:14.815246Z",
     "start_time": "2024-01-29T12:01:14.806961Z"
    }
   },
   "outputs": [
    {
     "data": {
      "text/plain": [
       "(2919, 13)"
      ]
     },
     "execution_count": 31,
     "metadata": {},
     "output_type": "execute_result"
    }
   ],
   "source": [
    "dataset.shape"
   ]
  },
  {
   "cell_type": "code",
   "execution_count": 32,
   "id": "b11f3bfa",
   "metadata": {
    "ExecuteTime": {
     "end_time": "2024-01-29T12:01:16.488959Z",
     "start_time": "2024-01-29T12:01:16.479406Z"
    }
   },
   "outputs": [
    {
     "name": "stdout",
     "output_type": "stream",
     "text": [
      "Categorical variables: 4\n",
      "Integer variables: 0\n",
      "Float variables: 3\n"
     ]
    }
   ],
   "source": [
    "obj = (dataset.dtypes == 'object')\n",
    "object_cols = list(obj[obj].index)\n",
    "print(\"Categorical variables:\",len(object_cols))\n",
    " \n",
    "int_ = (dataset.dtypes == 'int')\n",
    "num_cols = list(int_[int_].index)\n",
    "print(\"Integer variables:\",len(num_cols))\n",
    " \n",
    "fl = (dataset.dtypes == 'float')\n",
    "fl_cols = list(fl[fl].index)\n",
    "print(\"Float variables:\",len(fl_cols))"
   ]
  },
  {
   "cell_type": "code",
   "execution_count": 33,
   "id": "7376dcb2",
   "metadata": {
    "ExecuteTime": {
     "end_time": "2024-01-29T12:01:18.194508Z",
     "start_time": "2024-01-29T12:01:18.190312Z"
    }
   },
   "outputs": [],
   "source": [
    "# Exploratory Data Analysis"
   ]
  },
  {
   "cell_type": "code",
   "execution_count": 34,
   "id": "5875b7ca",
   "metadata": {
    "ExecuteTime": {
     "end_time": "2024-01-29T12:01:19.404184Z",
     "start_time": "2024-01-29T12:01:19.360561Z"
    }
   },
   "outputs": [
    {
     "data": {
      "text/html": [
       "<div>\n",
       "<style scoped>\n",
       "    .dataframe tbody tr th:only-of-type {\n",
       "        vertical-align: middle;\n",
       "    }\n",
       "\n",
       "    .dataframe tbody tr th {\n",
       "        vertical-align: top;\n",
       "    }\n",
       "\n",
       "    .dataframe thead th {\n",
       "        text-align: right;\n",
       "    }\n",
       "</style>\n",
       "<table border=\"1\" class=\"dataframe\">\n",
       "  <thead>\n",
       "    <tr style=\"text-align: right;\">\n",
       "      <th></th>\n",
       "      <th>Id</th>\n",
       "      <th>MSSubClass</th>\n",
       "      <th>LotArea</th>\n",
       "      <th>OverallCond</th>\n",
       "      <th>YearBuilt</th>\n",
       "      <th>YearRemodAdd</th>\n",
       "      <th>BsmtFinSF2</th>\n",
       "      <th>TotalBsmtSF</th>\n",
       "      <th>SalePrice</th>\n",
       "    </tr>\n",
       "  </thead>\n",
       "  <tbody>\n",
       "    <tr>\n",
       "      <th>count</th>\n",
       "      <td>2919.000000</td>\n",
       "      <td>2919.000000</td>\n",
       "      <td>2919.000000</td>\n",
       "      <td>2919.000000</td>\n",
       "      <td>2919.000000</td>\n",
       "      <td>2919.000000</td>\n",
       "      <td>2918.000000</td>\n",
       "      <td>2918.000000</td>\n",
       "      <td>1460.000000</td>\n",
       "    </tr>\n",
       "    <tr>\n",
       "      <th>mean</th>\n",
       "      <td>1459.000000</td>\n",
       "      <td>57.137718</td>\n",
       "      <td>10168.114080</td>\n",
       "      <td>5.564577</td>\n",
       "      <td>1971.312778</td>\n",
       "      <td>1984.264474</td>\n",
       "      <td>49.582248</td>\n",
       "      <td>1051.777587</td>\n",
       "      <td>180921.195890</td>\n",
       "    </tr>\n",
       "    <tr>\n",
       "      <th>std</th>\n",
       "      <td>842.787043</td>\n",
       "      <td>42.517628</td>\n",
       "      <td>7886.996359</td>\n",
       "      <td>1.113131</td>\n",
       "      <td>30.291442</td>\n",
       "      <td>20.894344</td>\n",
       "      <td>169.205611</td>\n",
       "      <td>440.766258</td>\n",
       "      <td>79442.502883</td>\n",
       "    </tr>\n",
       "    <tr>\n",
       "      <th>min</th>\n",
       "      <td>0.000000</td>\n",
       "      <td>20.000000</td>\n",
       "      <td>1300.000000</td>\n",
       "      <td>1.000000</td>\n",
       "      <td>1872.000000</td>\n",
       "      <td>1950.000000</td>\n",
       "      <td>0.000000</td>\n",
       "      <td>0.000000</td>\n",
       "      <td>34900.000000</td>\n",
       "    </tr>\n",
       "    <tr>\n",
       "      <th>25%</th>\n",
       "      <td>729.500000</td>\n",
       "      <td>20.000000</td>\n",
       "      <td>7478.000000</td>\n",
       "      <td>5.000000</td>\n",
       "      <td>1953.500000</td>\n",
       "      <td>1965.000000</td>\n",
       "      <td>0.000000</td>\n",
       "      <td>793.000000</td>\n",
       "      <td>129975.000000</td>\n",
       "    </tr>\n",
       "    <tr>\n",
       "      <th>50%</th>\n",
       "      <td>1459.000000</td>\n",
       "      <td>50.000000</td>\n",
       "      <td>9453.000000</td>\n",
       "      <td>5.000000</td>\n",
       "      <td>1973.000000</td>\n",
       "      <td>1993.000000</td>\n",
       "      <td>0.000000</td>\n",
       "      <td>989.500000</td>\n",
       "      <td>163000.000000</td>\n",
       "    </tr>\n",
       "    <tr>\n",
       "      <th>75%</th>\n",
       "      <td>2188.500000</td>\n",
       "      <td>70.000000</td>\n",
       "      <td>11570.000000</td>\n",
       "      <td>6.000000</td>\n",
       "      <td>2001.000000</td>\n",
       "      <td>2004.000000</td>\n",
       "      <td>0.000000</td>\n",
       "      <td>1302.000000</td>\n",
       "      <td>214000.000000</td>\n",
       "    </tr>\n",
       "    <tr>\n",
       "      <th>max</th>\n",
       "      <td>2918.000000</td>\n",
       "      <td>190.000000</td>\n",
       "      <td>215245.000000</td>\n",
       "      <td>9.000000</td>\n",
       "      <td>2010.000000</td>\n",
       "      <td>2010.000000</td>\n",
       "      <td>1526.000000</td>\n",
       "      <td>6110.000000</td>\n",
       "      <td>755000.000000</td>\n",
       "    </tr>\n",
       "  </tbody>\n",
       "</table>\n",
       "</div>"
      ],
      "text/plain": [
       "                Id   MSSubClass        LotArea  OverallCond    YearBuilt  \\\n",
       "count  2919.000000  2919.000000    2919.000000  2919.000000  2919.000000   \n",
       "mean   1459.000000    57.137718   10168.114080     5.564577  1971.312778   \n",
       "std     842.787043    42.517628    7886.996359     1.113131    30.291442   \n",
       "min       0.000000    20.000000    1300.000000     1.000000  1872.000000   \n",
       "25%     729.500000    20.000000    7478.000000     5.000000  1953.500000   \n",
       "50%    1459.000000    50.000000    9453.000000     5.000000  1973.000000   \n",
       "75%    2188.500000    70.000000   11570.000000     6.000000  2001.000000   \n",
       "max    2918.000000   190.000000  215245.000000     9.000000  2010.000000   \n",
       "\n",
       "       YearRemodAdd   BsmtFinSF2  TotalBsmtSF      SalePrice  \n",
       "count   2919.000000  2918.000000  2918.000000    1460.000000  \n",
       "mean    1984.264474    49.582248  1051.777587  180921.195890  \n",
       "std       20.894344   169.205611   440.766258   79442.502883  \n",
       "min     1950.000000     0.000000     0.000000   34900.000000  \n",
       "25%     1965.000000     0.000000   793.000000  129975.000000  \n",
       "50%     1993.000000     0.000000   989.500000  163000.000000  \n",
       "75%     2004.000000     0.000000  1302.000000  214000.000000  \n",
       "max     2010.000000  1526.000000  6110.000000  755000.000000  "
      ]
     },
     "execution_count": 34,
     "metadata": {},
     "output_type": "execute_result"
    }
   ],
   "source": [
    "dataset.describe()"
   ]
  },
  {
   "cell_type": "code",
   "execution_count": 35,
   "id": "2885d1d1",
   "metadata": {
    "ExecuteTime": {
     "end_time": "2024-01-29T12:01:21.667873Z",
     "start_time": "2024-01-29T12:01:21.657449Z"
    }
   },
   "outputs": [
    {
     "data": {
      "text/plain": [
       "Id                 0\n",
       "MSSubClass         0\n",
       "MSZoning           4\n",
       "LotArea            0\n",
       "LotConfig          0\n",
       "BldgType           0\n",
       "OverallCond        0\n",
       "YearBuilt          0\n",
       "YearRemodAdd       0\n",
       "Exterior1st        1\n",
       "BsmtFinSF2         1\n",
       "TotalBsmtSF        1\n",
       "SalePrice       1459\n",
       "dtype: int64"
      ]
     },
     "execution_count": 35,
     "metadata": {},
     "output_type": "execute_result"
    }
   ],
   "source": [
    "dataset.isna().sum()"
   ]
  },
  {
   "cell_type": "code",
   "execution_count": 36,
   "id": "0ecc96fe",
   "metadata": {
    "ExecuteTime": {
     "end_time": "2024-01-29T12:01:26.881370Z",
     "start_time": "2024-01-29T12:01:26.874859Z"
    }
   },
   "outputs": [],
   "source": [
    "dataset['SalePrice'] = dataset['SalePrice'].fillna(dataset['SalePrice'].mean())"
   ]
  },
  {
   "cell_type": "code",
   "execution_count": 37,
   "id": "c95b9cfb",
   "metadata": {
    "ExecuteTime": {
     "end_time": "2024-01-29T12:01:28.621398Z",
     "start_time": "2024-01-29T12:01:28.612171Z"
    }
   },
   "outputs": [
    {
     "data": {
      "text/plain": [
       "Id              0\n",
       "MSSubClass      0\n",
       "MSZoning        4\n",
       "LotArea         0\n",
       "LotConfig       0\n",
       "BldgType        0\n",
       "OverallCond     0\n",
       "YearBuilt       0\n",
       "YearRemodAdd    0\n",
       "Exterior1st     1\n",
       "BsmtFinSF2      1\n",
       "TotalBsmtSF     1\n",
       "SalePrice       0\n",
       "dtype: int64"
      ]
     },
     "execution_count": 37,
     "metadata": {},
     "output_type": "execute_result"
    }
   ],
   "source": [
    "dataset.isna().sum()"
   ]
  },
  {
   "cell_type": "code",
   "execution_count": 41,
   "id": "967d920c",
   "metadata": {
    "ExecuteTime": {
     "end_time": "2024-01-29T12:01:40.411478Z",
     "start_time": "2024-01-29T12:01:40.407140Z"
    }
   },
   "outputs": [],
   "source": [
    "dataset.drop(['Id'], axis=1, inplace=True)"
   ]
  },
  {
   "cell_type": "code",
   "execution_count": 42,
   "id": "744db102",
   "metadata": {
    "ExecuteTime": {
     "end_time": "2024-01-29T12:01:44.154129Z",
     "start_time": "2024-01-29T12:01:44.145326Z"
    }
   },
   "outputs": [],
   "source": [
    "new_dataset = dataset.dropna()"
   ]
  },
  {
   "cell_type": "code",
   "execution_count": 43,
   "id": "5a49b5a7",
   "metadata": {
    "ExecuteTime": {
     "end_time": "2024-01-29T12:02:09.329804Z",
     "start_time": "2024-01-29T12:02:09.308208Z"
    }
   },
   "outputs": [
    {
     "name": "stdout",
     "output_type": "stream",
     "text": [
      "<class 'pandas.core.frame.DataFrame'>\n",
      "Index: 2913 entries, 0 to 2918\n",
      "Data columns (total 12 columns):\n",
      " #   Column        Non-Null Count  Dtype  \n",
      "---  ------        --------------  -----  \n",
      " 0   MSSubClass    2913 non-null   int64  \n",
      " 1   MSZoning      2913 non-null   object \n",
      " 2   LotArea       2913 non-null   int64  \n",
      " 3   LotConfig     2913 non-null   object \n",
      " 4   BldgType      2913 non-null   object \n",
      " 5   OverallCond   2913 non-null   int64  \n",
      " 6   YearBuilt     2913 non-null   int64  \n",
      " 7   YearRemodAdd  2913 non-null   int64  \n",
      " 8   Exterior1st   2913 non-null   object \n",
      " 9   BsmtFinSF2    2913 non-null   float64\n",
      " 10  TotalBsmtSF   2913 non-null   float64\n",
      " 11  SalePrice     2913 non-null   float64\n",
      "dtypes: float64(3), int64(5), object(4)\n",
      "memory usage: 295.9+ KB\n"
     ]
    }
   ],
   "source": [
    "new_dataset.info()"
   ]
  },
  {
   "cell_type": "code",
   "execution_count": 58,
   "id": "dee7b283",
   "metadata": {
    "ExecuteTime": {
     "end_time": "2024-01-29T12:10:03.150998Z",
     "start_time": "2024-01-29T12:10:03.143778Z"
    }
   },
   "outputs": [],
   "source": [
    "df_final = dataset.select_dtypes(include=['int64', 'float64']).dropna()"
   ]
  },
  {
   "cell_type": "code",
   "execution_count": 70,
   "id": "b0b31583",
   "metadata": {
    "ExecuteTime": {
     "end_time": "2024-01-29T12:15:20.111784Z",
     "start_time": "2024-01-29T12:15:20.100952Z"
    }
   },
   "outputs": [],
   "source": [
    "from sklearn.metrics import mean_absolute_error\n",
    "from sklearn.model_selection import train_test_split\n",
    " \n",
    "X = df_final.drop(['SalePrice'], axis=1)\n",
    "Y = df_final['SalePrice']\n",
    " \n",
    "# Split the training set into \n",
    "# training and validation set\n",
    "X_train, X_valid, Y_train, Y_valid = train_test_split(\n",
    "    X, Y, train_size=0.8, test_size=0.2, random_state=0)"
   ]
  },
  {
   "cell_type": "code",
   "execution_count": 79,
   "id": "d9ab63ad",
   "metadata": {
    "ExecuteTime": {
     "end_time": "2024-01-29T12:38:51.429375Z",
     "start_time": "2024-01-29T12:38:51.402400Z"
    }
   },
   "outputs": [
    {
     "name": "stdout",
     "output_type": "stream",
     "text": [
      "R-Sqaure : 0.3135017650286015\n",
      "mean_absolute_percentage_error is : 0.1846545417916881\n",
      "mean_absolute_error is : 31194.27265365172\n"
     ]
    }
   ],
   "source": [
    "from sklearn.linear_model import LinearRegression\n",
    "from sklearn.metrics import mean_absolute_percentage_error\n",
    "from sklearn.metrics import r2_score\n",
    "\n",
    "model_LR = LinearRegression()\n",
    "model_LR.fit(X_train, Y_train)\n",
    "Y_pred = model_LR.predict(X_valid)\n",
    "\n",
    "print('R-Sqaure :',r2_score(Y_valid, Y_pred))\n",
    "print('mean_absolute_percentage_error is :',mean_absolute_percentage_error(Y_valid, Y_pred))\n",
    "print('mean_absolute_error is :',mean_absolute_error(Y_valid, Y_pred))"
   ]
  },
  {
   "cell_type": "code",
   "execution_count": 76,
   "id": "0ae0a8ce",
   "metadata": {
    "ExecuteTime": {
     "end_time": "2024-01-29T12:31:15.066423Z",
     "start_time": "2024-01-29T12:31:15.058892Z"
    }
   },
   "outputs": [
    {
     "name": "stdout",
     "output_type": "stream",
     "text": [
      "Coefficients: [ 0.00000000e+00  4.63145557e+01  1.11438197e+00  2.49514087e+03\n",
      "  2.94711601e+02  4.46205324e+02 -9.92944977e+00  3.79517315e+01]\n",
      "Intercept: -1352752.720116114\n"
     ]
    }
   ],
   "source": [
    "# Access the coefficients and intercept\n",
    "coefficients = model_LR.coef_\n",
    "intercept = model_LR.intercept_\n",
    "\n",
    "# Print the coefficients and intercept\n",
    "print('Coefficients:', coefficients)\n",
    "print('Intercept:', intercept)"
   ]
  },
  {
   "cell_type": "code",
   "execution_count": 78,
   "id": "625e93e3",
   "metadata": {
    "ExecuteTime": {
     "end_time": "2024-01-29T12:31:38.747302Z",
     "start_time": "2024-01-29T12:31:38.724103Z"
    },
    "scrolled": false
   },
   "outputs": [
    {
     "name": "stdout",
     "output_type": "stream",
     "text": [
      "                            OLS Regression Results                            \n",
      "==============================================================================\n",
      "Dep. Variable:              SalePrice   R-squared:                       0.271\n",
      "Model:                            OLS   Adj. R-squared:                  0.269\n",
      "Method:                 Least Squares   F-statistic:                     123.3\n",
      "Date:                Mon, 29 Jan 2024   Prob (F-statistic):          1.88e-154\n",
      "Time:                        18:01:38   Log-Likelihood:                -28505.\n",
      "No. Observations:                2334   AIC:                         5.703e+04\n",
      "Df Residuals:                    2326   BIC:                         5.707e+04\n",
      "Df Model:                           7                                         \n",
      "Covariance Type:            nonrobust                                         \n",
      "================================================================================\n",
      "                   coef    std err          t      P>|t|      [0.025      0.975]\n",
      "--------------------------------------------------------------------------------\n",
      "const        -1.353e+06   1.03e+05    -13.089      0.000   -1.56e+06   -1.15e+06\n",
      "MSSubClass      46.3146     24.669      1.877      0.061      -2.060      94.689\n",
      "LotArea          1.1144      0.126      8.866      0.000       0.868       1.361\n",
      "OverallCond   2495.1409   1058.182      2.358      0.018     420.063    4570.219\n",
      "YearBuilt      294.7116     49.891      5.907      0.000     196.877     392.547\n",
      "YearRemodAdd   446.2053     66.552      6.705      0.000     315.698     576.712\n",
      "BsmtFinSF2      -9.9294      6.151     -1.614      0.107     -21.991       2.132\n",
      "TotalBsmtSF     37.9517      2.716     13.972      0.000      32.625      43.278\n",
      "==============================================================================\n",
      "Omnibus:                     1374.622   Durbin-Watson:                   1.980\n",
      "Prob(Omnibus):                  0.000   Jarque-Bera (JB):            26915.782\n",
      "Skew:                           2.391   Prob(JB):                         0.00\n",
      "Kurtosis:                      18.934   Cond. No.                     1.37e+06\n",
      "==============================================================================\n",
      "\n",
      "Notes:\n",
      "[1] Standard Errors assume that the covariance matrix of the errors is correctly specified.\n",
      "[2] The condition number is large, 1.37e+06. This might indicate that there are\n",
      "strong multicollinearity or other numerical problems.\n"
     ]
    }
   ],
   "source": [
    "import statsmodels.api as sm \n",
    "\n",
    "# Create a linear regression model using statsmodels\n",
    "model = sm.OLS(Y_train, X_train)\n",
    "\n",
    "# Fit the model\n",
    "results = model.fit()\n",
    "\n",
    "# Print the summary\n",
    "print(results.summary())"
   ]
  },
  {
   "cell_type": "code",
   "execution_count": null,
   "id": "38012ce1",
   "metadata": {},
   "outputs": [],
   "source": []
  },
  {
   "cell_type": "code",
   "execution_count": null,
   "id": "fd3e0df0",
   "metadata": {},
   "outputs": [],
   "source": []
  },
  {
   "cell_type": "code",
   "execution_count": null,
   "id": "2b8ea1b7",
   "metadata": {},
   "outputs": [],
   "source": []
  },
  {
   "cell_type": "code",
   "execution_count": null,
   "id": "426d970c",
   "metadata": {},
   "outputs": [],
   "source": []
  },
  {
   "cell_type": "code",
   "execution_count": null,
   "id": "ad3b436e",
   "metadata": {},
   "outputs": [],
   "source": []
  },
  {
   "cell_type": "code",
   "execution_count": null,
   "id": "1aabbd5a",
   "metadata": {},
   "outputs": [],
   "source": []
  },
  {
   "cell_type": "code",
   "execution_count": null,
   "id": "6ffb657c",
   "metadata": {},
   "outputs": [],
   "source": []
  },
  {
   "cell_type": "code",
   "execution_count": null,
   "id": "772c51bd",
   "metadata": {},
   "outputs": [],
   "source": []
  },
  {
   "cell_type": "code",
   "execution_count": null,
   "id": "f53dafcb",
   "metadata": {},
   "outputs": [],
   "source": []
  },
  {
   "cell_type": "markdown",
   "id": "a9833d5f",
   "metadata": {},
   "source": [
    "OneHotEncoder – For Label categorical features\n",
    "One hot Encoding is the best way to convert categorical data into binary vectors. This maps the values to integer values. By using OneHotEncoder, we can easily convert object data into int. So for that, firstly we have to collect all the features which have the object datatype. To do so, we will make a loop."
   ]
  },
  {
   "cell_type": "code",
   "execution_count": null,
   "id": "ac47bd2c",
   "metadata": {},
   "outputs": [],
   "source": [
    "from sklearn.preprocessing import OneHotEncoder\n",
    " \n",
    "s = (new_dataset.dtypes == 'object')\n",
    "object_cols = list(s[s].index)\n",
    "print(\"Categorical variables:\")\n",
    "print(object_cols)\n",
    "print('No. of. categorical features: ', \n",
    "      len(object_cols))"
   ]
  },
  {
   "cell_type": "code",
   "execution_count": null,
   "id": "55f8e205",
   "metadata": {},
   "outputs": [],
   "source": [
    "OH_encoder = OneHotEncoder(sparse=False)\n",
    "OH_cols = pd.DataFrame(OH_encoder.fit_transform(new_dataset[object_cols]))\n",
    "OH_cols.index = new_dataset.index\n",
    "OH_cols.columns = OH_encoder.get_feature_names()\n",
    "df_final = new_dataset.drop(object_cols, axis=1)\n",
    "df_final = pd.concat([df_final, OH_cols], axis=1)"
   ]
  }
 ],
 "metadata": {
  "kernelspec": {
   "display_name": "Python 3 (ipykernel)",
   "language": "python",
   "name": "python3"
  },
  "language_info": {
   "codemirror_mode": {
    "name": "ipython",
    "version": 3
   },
   "file_extension": ".py",
   "mimetype": "text/x-python",
   "name": "python",
   "nbconvert_exporter": "python",
   "pygments_lexer": "ipython3",
   "version": "3.11.5"
  },
  "varInspector": {
   "cols": {
    "lenName": 16,
    "lenType": 16,
    "lenVar": 40
   },
   "kernels_config": {
    "python": {
     "delete_cmd_postfix": "",
     "delete_cmd_prefix": "del ",
     "library": "var_list.py",
     "varRefreshCmd": "print(var_dic_list())"
    },
    "r": {
     "delete_cmd_postfix": ") ",
     "delete_cmd_prefix": "rm(",
     "library": "var_list.r",
     "varRefreshCmd": "cat(var_dic_list()) "
    }
   },
   "types_to_exclude": [
    "module",
    "function",
    "builtin_function_or_method",
    "instance",
    "_Feature"
   ],
   "window_display": false
  }
 },
 "nbformat": 4,
 "nbformat_minor": 5
}
